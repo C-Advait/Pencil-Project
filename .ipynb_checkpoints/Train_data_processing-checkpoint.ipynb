{
 "cells": [
  {
   "cell_type": "code",
   "execution_count": 1,
   "metadata": {},
   "outputs": [],
   "source": [
    "#load in file\n",
    "train_data_name = './train_v2.txt'"
   ]
  },
  {
   "cell_type": "code",
   "execution_count": 2,
   "metadata": {},
   "outputs": [
    {
     "name": "stdout",
     "output_type": "stream",
     "text": [
      "<class 'list'>\n"
     ]
    },
    {
     "data": {
      "text/plain": [
       "['The U.S. Centers for Disease Control and Prevention initially advised school systems to close if outbreaks occurred , then reversed itself , saying the apparent mildness of the virus meant most schools and day care centers should stay open , even if they had confirmed cases of swine flu .',\n",
       " 'When Ms. Winfrey invited Suzanne Somers to share her controversial views about bio-identical hormone treatment on her syndicated show in 2009 , it won Ms. Winfrey a rare dollop of unflattering press , including a Newsweek cover story titled \" Crazy Talk : Oprah , Wacky Cures & You . \"',\n",
       " 'Elk calling -- a skill that hunters perfected long ago to lure game with the promise of a little romance -- is now its own sport .',\n",
       " \"Don 't !\",\n",
       " 'Fish , ranked 98th in the world , fired 22 aces en route to a 6-3 , 6-7 ( 5 / 7 ) , 7-6 ( 7 / 4 ) win over seventh-seeded Argentinian David Nalbandian .',\n",
       " 'Why does everything have to become such a big issue ?',\n",
       " 'AMMAN ( Reuters ) - King Abdullah of Jordan will meet U.S. President Barack Obama in Washington on April 21 to lobby on behalf of Arab states for a stronger U.S. role in Middle East peacemaking , palace officials said on Sunday .',\n",
       " 'To help keep traffic flowing the Congestion Charge will remain in operation through-out the strike and TfL will be suspending road works on major London roads wherever possible .',\n",
       " 'If no candidate wins an absolute majority , there will be a runoff between the top two contenders , most likely in mid-October .',\n",
       " \"Authorities previously served search warrants at Murray 's Las Vegas home and his businesses in Las Vegas and Houston .\"]"
      ]
     },
     "execution_count": 2,
     "metadata": {},
     "output_type": "execute_result"
    }
   ],
   "source": [
    "lines = open(train_data_name, encoding = 'utf8').read().splitlines()\n",
    "print(type(lines))\n",
    "lines[:10]"
   ]
  },
  {
   "cell_type": "code",
   "execution_count": 41,
   "metadata": {},
   "outputs": [
    {
     "name": "stdout",
     "output_type": "stream",
     "text": [
      "old number of sentences is:  1000000\n",
      "updated number of sentences is:  740427\n"
     ]
    }
   ],
   "source": [
    "#remove lines that have contain \"strange\" characters\n",
    "#only do for first 1000000 lines for time purposes\n",
    "lines = lines[:1000000]\n",
    "import re\n",
    "print('old number of sentences is: ', len(lines))\n",
    "regex = re.compile('[^a-zA-Z.!?,\\'\\\" ]+')\n",
    "for line in lines:\n",
    "    if regex.search(line) != None:\n",
    "        lines.remove(line)\n",
    "print('updated number of sentences is: ', len(lines))"
   ]
  },
  {
   "cell_type": "code",
   "execution_count": 45,
   "metadata": {},
   "outputs": [],
   "source": [
    "with open(\"./updated_train_data.txt\", \"w\", encoding = 'utf8') as fileOut:\n",
    "    for sentence in lines:\n",
    "        fileOut.write(\"%s\\n\" % sentence)"
   ]
  },
  {
   "cell_type": "code",
   "execution_count": 46,
   "metadata": {},
   "outputs": [],
   "source": [
    "new_lines = open(\"./updated_train_data.txt\", \"r\", encoding = 'utf8').read().splitlines()"
   ]
  },
  {
   "cell_type": "code",
   "execution_count": 48,
   "metadata": {},
   "outputs": [
    {
     "name": "stdout",
     "output_type": "stream",
     "text": [
      "740427\n"
     ]
    }
   ],
   "source": [
    "print(len(new_lines))"
   ]
  },
  {
   "cell_type": "code",
   "execution_count": null,
   "metadata": {},
   "outputs": [],
   "source": []
  }
 ],
 "metadata": {
  "kernelspec": {
   "display_name": "Python 3",
   "language": "python",
   "name": "python3"
  }
 },
 "nbformat": 4,
 "nbformat_minor": 4
}
